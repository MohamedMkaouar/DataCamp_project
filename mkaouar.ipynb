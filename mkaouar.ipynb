Cellule de texte <8MB4FJqSZ9DB>
#%% [markdown]
----------------------------------------------------------------------------------------------------------------------------------------------------------------------------------------------------------------------------------------------------------------------------------------------------------------------------------------------------------------------------------------------------------------------------------------------------------------------------------------------------------------------------------------------------------------------------------------------------------------------------------------------------------------------------------------------------------------------------------------------------------------------------------------------------------------------------------------------------------------------------------------------------------------------------------------------------------------------------------------------------------------------------------------------------------------------------------------------------------------------------------------------------------------------------------------------------------------------------------------------------------------------------------------------------------------------------------------------------------------------------------------------------------------------------------------------------------------------------------------------------------------------------------------------------------------------------------------------------------------------------------------------------------------------------------------------------------------------------------------------------------------------------------------------------------------------------------------------------------------------------------------------------------------------------------------------------------------------------------------------------------------------------------------------------------------------------------------------------------------------------------------------------------------------------------------------------------------------------------------------------------------------------------------------------------------------------------------------------------------------------------------------------------------------------------------------------------------------------------------------------------------------------------------------------------------------------------------------------------------------------------------------------------------------------------------------------------------------------------------------------------------------------------------------------------------------------------------------------------------------------------------------------------------------------------------------------------------------------------------------------------------------------------------------------------------------------------------------------------------------------------------------------------------------------------------------------------------------------------------------------------------------------------------------------------------------------------------------------------------------------------------------------------------------------------------------------------------------------------------------------------------------------------------------------------------------------------------------------------------------------------------------------------------------------------------------------------------------------------------------------------------------------------------------------------------------------------------------------------------------------------------------------------------------------------------------------------------

Cellule de texte <W7VIao7ZaMKX>
#%% [markdown]
# Introduction

Cellule de texte <oYgZ7weGaJ5m>
#%% [markdown]
----------------------------------------------------------------------------------------------------------------------------------------------------------------------------------------------------------------------------------------------------------------------------------------------------------------------------------------------------------------------------------------------------------------------------------------------------------------------------------------------------------------------------------------------------------------------------------------------------------------------------------------------------------------------------------------------------------------------------------------------------------------------------------------------------------------------------------------------------------------------------------------------------------------------------------------------------------------------------------------------------------------------------------------------------------------------------------------------------------------------------------------------------------------------------------------------------------------------------------------------------------------------------------------------------------------------------------------------------------------------------------------------------------------------------------------------------------------------------------------------------------------------------------------------------------------------------------------------------------------------------------------------------------------------------------------------------------------------------------------------------------------------------------------------------------------------------------------------------------------------------------------------------------------------------------------------------------------------------------------------------------------------------------------------------------------------------------------------------------------------------------------------------------------------------------------------------------------------------------------------------------------------------------------------------------------------------------------------------------------------------------------------------------------------------------------------------------------------------------------------------------------------------------------------------------------------------------------------------------------------------------------------------------------------------------------------------------------------------------------------------------------------------------------------------------------------------------------------------------------------------------------------------------------------------------------------------------------------------------------------------------------------------------------------------------------------------------------------------------------------------------------------------------------------------------------------------------------------------------------------------------------------------------------------------------------------------------------------------------------------------------------------------------------------------------------------------------------------------------------------------------------------------------------------------------------------------------------------------------------------------------------------------------------------------------------------------------------------------------------------------------------------------------------------------------------------------------------------------------------------------------------------------------------------------------------------------------------

Cellule de texte <uJqGEugjaHz8>
#%% [markdown]
----------------------------------------------------------------------------------------------------------------------------------------------------------------------------------------------------------------------------------------------------------------------------------------------------------------------------------------------------------------------------------------------------------------------------------------------------------------------------------------------------------------------------------------------------------------------------------------------------------------------------------------------------------------------------------------------------------------------------------------------------------------------------------------------------------------------------------------------------------------------------------------------------------------------------------------------------------------------------------------------------------------------------------------------------------------------------------------------------------------------------------------------------------------------------------------------------------------------------------------------------------------------------------------------------------------------------------------------------------------------------------------------------------------------------------------------------------------------------------------------------------------------------------------------------------------------------------------------------------------------------------------------------------------------------------------------------------------------------------------------------------------------------------------------------------------------------------------------------------------------------------------------------------------------------------------------------------------------------------------------------------------------------------------------------------------------------------------------------------------------------------------------------------------------------------------------------------------------------------------------------------------------------------------------------------------------------------------------------------------------------------------------------------------------------------------------------------------------------------------------------------------------------------------------------------------------------------------------------------------------------------------------------------------------------------------------------------------------------------------------------------------------------------------------------------------------------------------------------------------------------------------------------------------------------------------------------------------------------------------------------------------------------------------------------------------------------------------------------------------------------------------------------------------------------------------------------------------------------------------------------------------------------------------------------------------------------------------------------------------------------------------------------------------------------------------------------------------------------------------------------------------------------------------------------------------------------------------------------------------------------------------------------------------------------------------------------------------------------------------------------------------------------------------------------------------------------------------------------------------------------------------------------------------------------------------------------------------

Cellule de texte <Fgn4uxh7aQ-2>
#%% [markdown]
# WORK

Cellule de code <_bVZkGlxmMio>
#%% [code]
!pip install geopandas
Éléments de sortie d'exécution datant du 3 janv. 2021 18:36
	Stream
		Collecting geopandas
		[?25l  Downloading https://files.pythonhosted.org/packages/f7/a4/e66aafbefcbb717813bf3a355c8c4fc3ed04ea1dd7feb2920f2f4f868921/geopandas-0.8.1-py2.py3-none-any.whl (962kB)
		[K     |████████████████████████████████| 972kB 6.5MB/s 
		[?25hCollecting pyproj>=2.2.0
		[?25l  Downloading https://files.pythonhosted.org/packages/e4/ab/280e80a67cfc109d15428c0ec56391fc03a65857b7727cf4e6e6f99a4204/pyproj-3.0.0.post1-cp36-cp36m-manylinux2010_x86_64.whl (6.4MB)
		[K     |████████████████████████████████| 6.5MB 16.3MB/s 
		[?25hRequirement already satisfied: pandas>=0.23.0 in /usr/local/lib/python3.6/dist-packages (from geopandas) (1.1.5)
		Requirement already satisfied: shapely in /usr/local/lib/python3.6/dist-packages (from geopandas) (1.7.1)
		Collecting fiona
		[?25l  Downloading https://files.pythonhosted.org/packages/37/94/4910fd55246c1d963727b03885ead6ef1cd3748a465f7b0239ab25dfc9a3/Fiona-1.8.18-cp36-cp36m-manylinux1_x86_64.whl (14.8MB)
		[K     |████████████████████████████████| 14.8MB 280kB/s 
		[?25hRequirement already satisfied: certifi in /usr/local/lib/python3.6/dist-packages (from pyproj>=2.2.0->geopandas) (2020.12.5)
		Requirement already satisfied: numpy>=1.15.4 in /usr/local/lib/python3.6/dist-packages (from pandas>=0.23.0->geopandas) (1.19.4)
		Requirement already satisfied: pytz>=2017.2 in /usr/local/lib/python3.6/dist-packages (from pandas>=0.23.0->geopandas) (2018.9)
		Requirement already satisfied: python-dateutil>=2.7.3 in /usr/local/lib/python3.6/dist-packages (from pandas>=0.23.0->geopandas) (2.8.1)
		Collecting click-plugins>=1.0
		  Downloading https://files.pythonhosted.org/packages/e9/da/824b92d9942f4e472702488857914bdd50f73021efea15b4cad9aca8ecef/click_plugins-1.1.1-py2.py3-none-any.whl
		Collecting munch
		  Downloading https://files.pythonhosted.org/packages/cc/ab/85d8da5c9a45e072301beb37ad7f833cd344e04c817d97e0cc75681d248f/munch-2.5.0-py2.py3-none-any.whl
		Requirement already satisfied: click<8,>=4.0 in /usr/local/lib/python3.6/dist-packages (from fiona->geopandas) (7.1.2)
		Requirement already satisfied: six>=1.7 in /usr/local/lib/python3.6/dist-packages (from fiona->geopandas) (1.15.0)
		Requirement already satisfied: attrs>=17 in /usr/local/lib/python3.6/dist-packages (from fiona->geopandas) (20.3.0)
		Collecting cligj>=0.5
		  Downloading https://files.pythonhosted.org/packages/42/1e/947eadf10d6804bf276eb8a038bd5307996dceaaa41cfd21b7a15ec62f5d/cligj-0.7.1-py3-none-any.whl
		Installing collected packages: pyproj, click-plugins, munch, cligj, fiona, geopandas
		Successfully installed click-plugins-1.1.1 cligj-0.7.1 fiona-1.8.18 geopandas-0.8.1 munch-2.5.0 pyproj-3.0.0.post1

Cellule de code <_2b0aC6eFUL->
#%% [code]
import pandas as pd
import numpy as np
from collections import Counter
import seaborn as sns
import matplotlib.pyplot as plt
import geopandas 
from scipy import interpolate
from sklearn.pipeline import make_pipeline
from sklearn.preprocessing import FunctionTransformer
from sklearn.compose import make_column_transformer
from sklearn.preprocessing import OrdinalEncoder
from sklearn.impute import SimpleImputer


Cellule de code <H2AVlSBCHELX>
#%% [code]
df = pd.read_excel('https://query.data.world/s/yg4pp7vm5dhoj6pj4xjm43gcg73ujq',header=3)
df.drop(columns=['Timestamp','PostalCode', 'Counter', 'CompanyEmployeesOverall', 'PopulationOfLargestCityWithin20Miles'], inplace=True)
df['SalaryUSD'] = list(map(float, [str(ch).replace(" ", "").replace(",", ".") for ch in list(df.SalaryUSD)]))
df = df[df["SalaryUSD"] != min(df["SalaryUSD"])] # we drop the ones who have 0 as salary


Cellule de texte <3rUU7tb8Z2Zo>
#%% [markdown]
# MKAOUAR

Cellule de texte <bVorOQmMbykI>
#%% [markdown]
## "Education" feature

Cellule de code <EYPOYNBEbZWY>
#%% [code]
Counter(df.Education)
Éléments de sortie d'exécution datant du 3 janv. 2021 19:06
	text/plain
		Counter({'Associates (2 years)': 764,
		         'Bachelors (4 years)': 3658,
		         'Doctorate/PhD': 51,
		         'Masters': 1236,
		         'None (no degree completed)': 1182})

Cellule de code <ALFzOESZbLrC>
#%% [code]
plt.plot(np.log(df["SalaryUSD"]),df["Education"],"o")
plt.show()
Éléments de sortie d'exécution datant du 3 janv. 2021 19:05
	text/plain
		<Figure size 432x288 with 1 Axes>

Cellule de texte <2bkuxzYcbduh>
#%% [markdown]
What we see above is intuitively  logical because the more we study the higher our salary.

Cellule de code <IrptAXqvbneZ>
#%% [code]
mean_salary_by_education = df[['SalaryUSD','Education']].groupby(['Education']).mean().sort_values(by = 'SalaryUSD',ascending = False)
print(mean_salary_by_education)
Éléments de sortie d'exécution datant du 3 janv. 2021 19:07
	Stream
		SalaryUSD
		Education                                
		Doctorate/PhD               101951.568627
		Bachelors (4 years)          94134.569672
		Masters                      93649.316817
		None (no degree completed)   90774.013212
		Associates (2 years)         87723.073233

Cellule de texte <3qz9r6LEb-Dj>
#%% [markdown]
## "Certifications" Feature

Cellule de code <U2tpFar7bszs>
#%% [code]
Counter(df.Certifications)
plt.plot(np.log(df["SalaryUSD"]),df["Certifications"],"o")
plt.show()
mean_salary_by_certifications = df[['SalaryUSD','Certifications']].groupby(['Certifications']).mean().sort_values(by = 'SalaryUSD',ascending = False)
print(mean_salary_by_certifications)
Éléments de sortie d'exécution datant du 3 janv. 2021 19:09
	Stream
		SalaryUSD
		Certifications                                 
		Yes, but they expired             101880.610226
		Yes, and they're currently valid   90976.210966
		No, I never have                   89159.311806
	text/plain
		<Figure size 432x288 with 1 Axes>

Cellule de texte <YG_jOCAocXCf>
#%% [markdown]
 We see Here that having a certification affects the salary. Nevertheless, it is not important if they expired or not which is kind of logical because from a company's point of view. In other words, expiration date of a certificate do not matter, what matters is that the skill is learned by the employee.

Cellule de texte <fbJHCbggdFJ4>
#%% [markdown]
## "Education is computer related" feature

Cellule de code <f4ttG_CBdPIv>
#%% [code]
Counter(df.EducationIsComputerRelated)
Éléments de sortie d'exécution datant du 3 janv. 2021 19:14
	text/plain
		Counter({'No': 1898, 'Yes': 3779, nan: 1214})

Cellule de code <-84EZbzSdEMx>
#%% [code]
mean_salary_by_ComputerRelated = df[['SalaryUSD','EducationIsComputerRelated']].groupby(['EducationIsComputerRelated']).mean().sort_values(by = 'SalaryUSD',ascending = False)
std_salary_by_ComputerRelated = df[['SalaryUSD','EducationIsComputerRelated']].groupby(['EducationIsComputerRelated']).std().sort_values(by = 'SalaryUSD',ascending = False)
print(mean_salary_by_ComputerRelated)
print(std_salary_by_ComputerRelated)
Éléments de sortie d'exécution datant du 3 janv. 2021 19:14
	Stream
		SalaryUSD
		EducationIsComputerRelated              
		No                          97249.418675
		Yes                         91347.614191
		                               SalaryUSD
		EducationIsComputerRelated              
		No                          64840.081784
		Yes                         56317.511062

Cellule de texte <3cCFlmhpdZpg>
#%% [markdown]
Here, having a computer related education may not be the asset that will get you the highest salary (the mean salary of the ones who didn't have a computer related education is higher than the ones who did) but it is a more safe way to have a decent salary as its standard deviation is lower than the ones who didn't.

Cellule de texte <KEFK-9omd4Ys>
#%% [markdown]
## "HoursWorkedPerWeek" feature

Cellule de code <sLhoPahdeETU>
#%% [code]
mean_salary_by_HoursWorkedPerWeek = df[['SalaryUSD','HoursWorkedPerWeek']].groupby(['HoursWorkedPerWeek']).mean().sort_values(by = 'HoursWorkedPerWeek',ascending = True)
std_salary_by_HoursWorkedPerWeek = df[['SalaryUSD','HoursWorkedPerWeek']].groupby(['HoursWorkedPerWeek']).std().sort_values(by = 'HoursWorkedPerWeek',ascending = True)
print(df.HoursWorkedPerWeek.mean())
print(df.HoursWorkedPerWeek.std())
sns.relplot(x=np.log(df["SalaryUSD"]), y="HoursWorkedPerWeek", data=df[(df.HoursWorkedPerWeek <50) & (df.HoursWorkedPerWeek >25)], hue="Gender")
plt.show()
Éléments de sortie d'exécution datant du 3 janv. 2021 19:23
	Stream
		43.15243813149802
		7.042846440533276
	text/plain
		<Figure size 516.625x360 with 1 Axes>

Cellule de texte <G5fo-49Kfg1F>
#%% [markdown]
## Transformers

Cellule de code <9Xkx3sdIfjQ->
#%% [code]
from sklearn.preprocessing import FunctionTransformer
from sklearn.compose import make_column_transformer
from sklearn.pipeline import make_pipeline
from sklearn.impute import SimpleImputer
from sklearn.preprocessing import OrdinalEncoder

def encode_feature(df,feature):
  df[feature] = df[feature].fillna("Unkown")
  ord_enc = OrdinalEncoder()
  return ord_enc.fit_transform(df[[feature]]).reshape((len(df[[feature]]),1))

def standard_scale(df,feature):
  res = df[[feature]].to_numpy().reshape((len(df[[feature]]),1))
  return (res - np.mean(res))/np.std(res)

cols = ["Education",
        "HoursWorkedPerWeek",
        'Certifications',
        'EducationIsComputerRelated']

transformer_Education = FunctionTransformer(lambda df: encode_feature(df,'Education'))
transformer_Certifications = FunctionTransformer(lambda df: encode_feature(df,'Certifications'))
transformer_EducationIsComputerRelated = FunctionTransformer(lambda df: encode_feature(df,'EducationIsComputerRelated'))
transformer_HoursWorkedPerWeek = FunctionTransformer(lambda df: standard_scale(df,'HoursWorkedPerWeek'))

transformer = make_column_transformer(
    (transformer_Education,['Education']),
    (transformer_HoursWorkedPerWeek,['HoursWorkedPerWeek']),
    (transformer_Certifications,['Certifications']),
    (transformer_EducationIsComputerRelated,['EducationIsComputerRelated']), 
    ('passthrough', cols)
)

pipe = make_pipeline(
    transformer
)
